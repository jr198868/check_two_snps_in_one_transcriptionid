{
 "cells": [
  {
   "cell_type": "code",
   "execution_count": 2,
   "metadata": {},
   "outputs": [],
   "source": [
    "import json\n",
    "import csv\n"
   ]
  },
  {
   "cell_type": "code",
   "execution_count": 3,
   "metadata": {},
   "outputs": [
    {
     "name": "stdout",
     "output_type": "stream",
     "text": [
      "chr1:NM_001310513.1:36369105 ['C', '[A]']\n",
      "15\n",
      "{'chr1:NM_001310513.1:36369105': ['C', '[A]'], 'chr1:NM_001271526.1:58504772': ['C', '[T]'], 'chr1:NM_001281466.1:88227227': ['A', '[G]'], 'chr1:NM_001281466.1:88262277': ['C', '[CTTTTTTT, CTTTTTTTTTT, CTTTTTTTTTTTTTTTTT]'], 'chr2:NM_001290413.1:25546862': ['C', '[A]'], 'chr3:NM_001033304.1:108458069': ['A', '[T]'], 'chr4:NM_001127189.3:147807181': ['T', '[C]'], 'chr5:NM_133738.1:97884690': ['C', '[A]'], 'chr6:NM_008285.4:114408920': ['G', '[T]'], 'chr12:NM_026998.3:54746358': ['C', '[A]'], 'chr12:NM_001177574.1:87896722': ['G', '[C]'], 'chr13:NM_011233.3:100650822': ['C', '[G]'], 'chr15:NM_144848.2:76112725': ['C', '[A]'], 'chr16:NM_001130484.1:33056554': ['G', '[T]'], 'chr16:NM_001146325.1:43648860': ['G', '[GAC]']}\n",
      "{'C->[A]': (1, 1), 'C->[T]': (1, 1), 'A->[G]': (1, 1), 'A->[T]': (1, 1), 'T->[C]': (1, 1), 'G->[T]': (1, 1), 'G->[C]': (1, 1), 'C->[G]': (1, 1)}\n",
      "8\n",
      "{'C->[CTTTTTTT, CTTTTTTTTTT, CTTTTTTTTTTTTTTTTT]': (1, 41), 'G->[GAC]': (1, 3)}\n",
      "2\n"
     ]
    }
   ],
   "source": [
    "with open('/home/raymond/Desktop/BlueSphere_Bio_Inc/MC38/MC38_BAM_somatic_mutation_calling/MC38_vcf_snpeff/keyword_filter_ANN_datafile/splice_region_variant.json') as f:\n",
    "    snpeff_ann = json.load(f)\n",
    "  \n",
    "        \n",
    "#clean the snpeff annotation file\n",
    "snpeff_ann_dict = {}\n",
    "for i in snpeff_ann.keys():\n",
    "    snpeff_ann_dict[i.split(':')[0] + ':' + snpeff_ann[i][4]['ANN'][0].split('|')[6] + ':' +  i.split(':')[1]] = [snpeff_ann[i][0], snpeff_ann[i][1]]\n",
    "print(list(snpeff_ann_dict.keys())[0], snpeff_ann_dict[list(snpeff_ann_dict.keys())[0]])\n",
    "print(len(snpeff_ann_dict))\n",
    "print(snpeff_ann_dict)\n",
    "\n",
    "\n",
    "#check the feathers of the dataset(dictionary)\n",
    "\n",
    "feather_count = {}\n",
    "junk_residual = {}\n",
    "for i in snpeff_ann_dict.keys():\n",
    "    if len(snpeff_ann_dict[i][0]) == 1 and len(snpeff_ann_dict[i][1][1:-1]) == 1:\n",
    "        feather_count[snpeff_ann_dict[i][0] + '->'+ snpeff_ann_dict[i][1]] = (len(snpeff_ann_dict[i][0]), len(snpeff_ann_dict[i][1][1:-1]))\n",
    "    else:\n",
    "        junk_residual[snpeff_ann_dict[i][0] + '->'+ snpeff_ann_dict[i][1]] = (len(snpeff_ann_dict[i][0]), len(snpeff_ann_dict[i][1][1:-1]))\n",
    "print(feather_count)\n",
    "print(len(feather_count))\n",
    "\n",
    "print(junk_residual)\n",
    "print(len(junk_residual))\n"
   ]
  },
  {
   "cell_type": "code",
   "execution_count": 79,
   "metadata": {},
   "outputs": [
    {
     "name": "stdout",
     "output_type": "stream",
     "text": [
      "('more than two snps in one transcription ID ', 'NM_001310513', 'dis:2')\n"
     ]
    }
   ],
   "source": [
    "#check if two snp positions are close in one transcript id \n",
    "\n",
    "#function: snp_close_check \n",
    "#format of input dataset: {'chromosome id: transcription id: snp position': ['ref, '[alt]']} \n",
    "#e.g., {'chr1:NM_001310513.1:36369105': ['C', '[A]']}\n",
    "#the input dataset should follow this format otherwise the function won't work\n",
    "\n",
    "def check_snp_close(input_dict):\n",
    "    snp_close_dict = {}\n",
    "    min_dis_dict = {}\n",
    "    for k in input_dict.keys():\n",
    "        if k.split(':')[1] not in snp_close_dict.keys():\n",
    "            snp_close_dict[k.split(':')[1]] = []\n",
    "        snp_close_dict[k.split(':')[1]].append(k.split(':')[2])\n",
    "        \n",
    "    for j in snp_close_dict.keys():\n",
    "            \n",
    "        if len(snp_close_dict[j]) < 2:\n",
    "            return 'No double snp in one transcription ID'\n",
    "            \n",
    "        if len(snp_close_dict[j]) == 2:\n",
    "            snp_close_list = sorted(snp_close_dict[j])\n",
    "            dis = int(snp_close_list[1]) - int(snp_close_list[0])\n",
    "            if dis <= 12:\n",
    "                return (k.split(':')[1], snp_close_list[1], snp_close_list[0])\n",
    "            else:\n",
    "                return 'There are two snps in one transcription ID but distance > 12'\n",
    "            \n",
    "        if len(snp_close_dict[j]) > 2:\n",
    "            snp_close_list = sorted(snp_close_dict[j])\n",
    "            for i in range(len(snp_close_list)-1):\n",
    "                dis = int(snp_close_list[i+1]) - int(snp_close_list[i])\n",
    "                if (snp_close_list[i+1], snp_close_list[i]) not in min_dis_dict:\n",
    "                    min_dis_dict[(snp_close_list[i+1], snp_close_list[i])] = dis\n",
    "                    if min(list(min_dis_dict.values())) <= 12:\n",
    "                        min_dis_sort = sorted(list(min_dis_dict.values()))\n",
    "                            \n",
    "                    else:\n",
    "                        return 'There are more than two snps in one transcription ID but distance > 12'\n",
    "    return 'more than two snps in one transcription ID ', k.split(':')[1], 'dis:' +  str(min_dis_sort[0])\n",
    "\n",
    "#test:\n",
    "\n",
    "#result1 = check_snp_close(snpeff_ann_dict)\n",
    "#print(result1)\n",
    "\n",
    "#check_dict2 = {'chr1:NM_001310513:15': ['C', '[A]'], \n",
    "#              'chr1:NM_001310513:20': ['T', '[A]']}\n",
    "#result2 = check_snp_close(check_dict2)\n",
    "#print(result2)\n",
    "\n",
    "check_dict3 = {'chr1:NM_001310513:15': ['C', '[A]'], 'chr1:NM_001310513:20': ['T', '[A]'],'chr1:NM_001310513:22': ['G', '[C]']}\n",
    "result3 = check_snp_close(check_dict3)\n",
    "print(result3)\n",
    "\n",
    "\n"
   ]
  },
  {
   "cell_type": "code",
   "execution_count": null,
   "metadata": {},
   "outputs": [],
   "source": []
  },
  {
   "cell_type": "code",
   "execution_count": null,
   "metadata": {},
   "outputs": [],
   "source": []
  },
  {
   "cell_type": "code",
   "execution_count": null,
   "metadata": {},
   "outputs": [],
   "source": []
  }
 ],
 "metadata": {
  "kernelspec": {
   "display_name": "Python 3",
   "language": "python",
   "name": "python3"
  },
  "language_info": {
   "codemirror_mode": {
    "name": "ipython",
    "version": 3
   },
   "file_extension": ".py",
   "mimetype": "text/x-python",
   "name": "python",
   "nbconvert_exporter": "python",
   "pygments_lexer": "ipython3",
   "version": "3.8.1"
  }
 },
 "nbformat": 4,
 "nbformat_minor": 4
}
